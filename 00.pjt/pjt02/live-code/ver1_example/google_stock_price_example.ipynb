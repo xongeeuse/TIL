{
 "cells": [
  {
   "cell_type": "markdown",
   "id": "c30ffe6e",
   "metadata": {},
   "source": [
    "# Pandas 연습하기\n",
    "\n",
    "- 데이터: 구글 주식 데이터: Google Stock Price: Daily, Weekly & Monthly (2023)\n",
    "    - 데이터 링크: https://www.kaggle.com/datasets/r1shabhgupta/google-stock-price-daily-weekly-and-monthly-2023\n",
    "    - 데이터셋 요약: 2013-04-15 ~ 2023-03-31 까지의 일/주/월 별 데이터\n",
    "        - 데이터는 다운로드 시점에 따라 다를 수 있습니다.\n",
    "\n",
    "- 실습에는 월 별 데이터를 활용합니다."
   ]
  },
  {
   "cell_type": "markdown",
   "id": "5f791485",
   "metadata": {},
   "source": [
    "## 0. 필요 패키지 설치"
   ]
  },
  {
   "cell_type": "code",
   "execution_count": null,
   "id": "8f259b78",
   "metadata": {},
   "outputs": [],
   "source": [
    "pip install numpy"
   ]
  },
  {
   "cell_type": "code",
   "execution_count": null,
   "id": "0253cd0e",
   "metadata": {},
   "outputs": [],
   "source": [
    "pip install pandas"
   ]
  },
  {
   "cell_type": "code",
   "execution_count": null,
   "id": "1281ef7f",
   "metadata": {
    "scrolled": true
   },
   "outputs": [],
   "source": [
    "pip install matplotlib"
   ]
  },
  {
   "cell_type": "code",
   "execution_count": null,
   "id": "b9f74d5a",
   "metadata": {},
   "outputs": [],
   "source": [
    "# 패키지 import\n",
    "import numpy as np\n",
    "import pandas as pd\n",
    "import matplotlib.pyplot as plt"
   ]
  },
  {
   "cell_type": "markdown",
   "id": "acb952cb",
   "metadata": {},
   "source": [
    "## 1. 데이터 읽어와서 출력하기\n",
    "  - `pd.read_csv()`: csv 파일을 읽어와 Pandas Dataframe 으로 반환"
   ]
  },
  {
   "cell_type": "code",
   "execution_count": null,
   "id": "47a2b0f2",
   "metadata": {},
   "outputs": [],
   "source": [
    "# CSV 파일 경로\n",
    "csv_path = \"archive/google-stock-dataset-Monthly.csv\"\n",
    "\n",
    "# CSV 파일 읽어오기 (첫 번째, 마지막 열 제외)\n",
    "df = pd.read_csv(csv_path, usecols=range(1, 7))\n",
    "\n",
    "# DataFrame 출력\n",
    "df"
   ]
  },
  {
   "cell_type": "markdown",
   "id": "3ca1f1d0",
   "metadata": {},
   "source": [
    "### 데이터 설명\n",
    "  - `Date`: 주식 가격 데이터가 기록된 특정 날짜\n",
    "  - `Price`: 해당 날짜 주식 가격의 개장 후 첫 거래 가격.\n",
    "  - `High`: 해당 거래일에 주식의 최고 가격\n",
    "  - `Low`: 해당 거래일에 주식의 최저 가격\n",
    "  - `Close`: 해당 거래일의 종가(마지막 거래 가격)입니다.\n",
    "  - `Volume`: 주식 거래량. 해당 거래일에 주식이 거래된 총 주식 수입니다."
   ]
  },
  {
   "cell_type": "code",
   "execution_count": null,
   "id": "c09edf24",
   "metadata": {
    "scrolled": false
   },
   "outputs": [],
   "source": [
    "df.dtypes"
   ]
  },
  {
   "cell_type": "markdown",
   "id": "29904bac",
   "metadata": {},
   "source": [
    "## 2. 종가 데이터를 사용하여 그래프 만들어보기"
   ]
  },
  {
   "cell_type": "code",
   "execution_count": null,
   "id": "edcaa178",
   "metadata": {},
   "outputs": [],
   "source": [
    "# 날짜 데이터 변환\n",
    "df[\"Date\"] = pd.to_datetime(df[\"Date\"])\n",
    "\n",
    "# 그래프 그리기 (가로, 세로 축에 표시될 데이터를 차례로 기입)\n",
    "plt.plot(df['Date'], df['Close'])\n",
    "\n",
    "\n",
    "# 그래프 제목 설정\n",
    "plt.title('Close Prices over Time')\n",
    "\n",
    "# x축 레이블 설정\n",
    "plt.xlabel('Date')\n",
    "\n",
    "# y축 레이블 설정\n",
    "plt.ylabel('Close')\n",
    "\n",
    "# 그래프 표시\n",
    "plt.show()"
   ]
  },
  {
   "cell_type": "markdown",
   "id": "94106fb5",
   "metadata": {},
   "source": [
    "## 3. 최저, 최고가 출력하기"
   ]
  },
  {
   "cell_type": "code",
   "execution_count": null,
   "id": "3ed7a23d",
   "metadata": {},
   "outputs": [],
   "source": [
    "# 그래프 그리기\n",
    "plt.plot(df['Date'], df['Close'], label='Close')\n",
    "plt.plot(df['Date'], df['Low'], label='Low')\n",
    "plt.plot(df['Date'], df['High'], label='High')\n",
    "\n",
    "# 그래프 제목 설정\n",
    "plt.title('High, Low Prices over Time')\n",
    "\n",
    "# x축 레이블 설정\n",
    "plt.xlabel('Date')\n",
    "\n",
    "# y축 레이블 설정\n",
    "plt.ylabel('Price')\n",
    "\n",
    "# 범례 표시\n",
    "plt.legend()\n",
    "\n",
    "# 그래프 표시\n",
    "plt.show()"
   ]
  },
  {
   "cell_type": "markdown",
   "id": "3a3c3773",
   "metadata": {},
   "source": [
    "## 4. 데이터 가공 - 2021 년 이후의 최고, 최저가만 출력하기"
   ]
  },
  {
   "cell_type": "code",
   "execution_count": null,
   "id": "676a1996",
   "metadata": {},
   "outputs": [],
   "source": [
    "# CSV 파일 경로\n",
    "csv_path = \"archive/google-stock-dataset-Monthly.csv\"\n",
    "\n",
    "# CSV 파일 읽어오기 (첫 번째, 마지막 열 제외)\n",
    "new_df = pd.read_csv(csv_path, usecols=range(1, 7))\n",
    "\n",
    "# 2022년 이후 데이터 필터링\n",
    "df_after_2022 = new_df[new_df[\"Date\"] >= \"2022-01-01\"]\n",
    "\n",
    "# 출력하기\n",
    "df_after_2022"
   ]
  },
  {
   "cell_type": "code",
   "execution_count": null,
   "id": "5ef1c9e3",
   "metadata": {},
   "outputs": [],
   "source": [
    "# 그래프 그리기\n",
    "plt.plot(df_after_2022['Date'], df_after_2022['Low'], label='Low')\n",
    "plt.plot(df_after_2022['Date'], df_after_2022['High'], label='High')\n",
    "\n",
    "# 그래프 제목 설정\n",
    "plt.title('High, Low Prices After 2022')\n",
    "\n",
    "# x축 레이블 설정\n",
    "plt.xlabel('Date')\n",
    "\n",
    "# y축 레이블 설정\n",
    "plt.ylabel('Price')\n",
    "\n",
    "# 범례 표시\n",
    "plt.legend()\n",
    "\n",
    "# 그래프 표시\n",
    "plt.show()"
   ]
  },
  {
   "cell_type": "markdown",
   "id": "82665a64",
   "metadata": {},
   "source": [
    "- x 축 가독성 키우기 (회전)"
   ]
  },
  {
   "cell_type": "code",
   "execution_count": null,
   "id": "f1276007",
   "metadata": {},
   "outputs": [],
   "source": [
    "# 그래프 그리기\n",
    "plt.plot(df_after_2022['Date'], df_after_2022['Low'], label='Low')\n",
    "plt.plot(df_after_2022['Date'], df_after_2022['High'], label='High')\n",
    "\n",
    "# 그래프 제목 설정\n",
    "plt.title('High, Low Prices After 2022')\n",
    "\n",
    "# x축 레이블 설정\n",
    "plt.xlabel('Date')\n",
    "\n",
    "# y축 레이블 설정\n",
    "plt.ylabel('Price')\n",
    "\n",
    "# x 축 설정(회전시키기)\n",
    "plt.xticks(rotation=45)\n",
    "\n",
    "# 범례 표시\n",
    "plt.legend()\n",
    "\n",
    "# 그래프 표시\n",
    "plt.show()"
   ]
  },
  {
   "cell_type": "markdown",
   "id": "27b05d87",
   "metadata": {},
   "source": [
    "## 5. 원화로 바꾸어 출력해보기\n",
    "  - 최저, 최고가를 원화로 변경하여 출력해보자"
   ]
  },
  {
   "cell_type": "code",
   "execution_count": null,
   "id": "ac1d567a",
   "metadata": {},
   "outputs": [],
   "source": [
    "# CSV 파일 경로\n",
    "csv_path = \"archive/google-stock-dataset-Monthly.csv\"\n",
    "\n",
    "# CSV 파일 읽어오기 (첫 번째, 마지막 열 제외)\n",
    "df = pd.read_csv(csv_path, usecols=range(1, 7))\n",
    "\n",
    "# 원화 환율 (예시로 1달러당 1300원으로 가정)\n",
    "exchange_rate = 1300\n",
    "\n",
    "# 각 컬럼을 원화로 계산하여 추가\n",
    "df[\"High(won)\"] = df[\"High\"] * exchange_rate\n",
    "df[\"Low(won)\"] = df[\"Low\"] * exchange_rate\n",
    "df[\"Close(won)\"] = df[\"Close\"] * exchange_rate\n",
    "\n",
    "# 2022년 이후 데이터 필터링\n",
    "df = df[new_df[\"Date\"] >= \"2022-01-01\"]\n",
    "\n",
    "# 수정된 데이터프레임 출력\n",
    "df"
   ]
  },
  {
   "cell_type": "code",
   "execution_count": null,
   "id": "cf280c78",
   "metadata": {
    "scrolled": true
   },
   "outputs": [],
   "source": [
    "# 그래프 그리기\n",
    "plt.plot(df['Date'], df['Low(won)'], label='Low(won)')\n",
    "plt.plot(df['Date'], df['High(won)'], label='High(won)')\n",
    "plt.plot(df['Date'], df['Close(won)'], label='Close(won)')\n",
    "\n",
    "# 그래프 제목 설정\n",
    "plt.title('High, Low, CLose Prices after 2022, exchange')\n",
    "\n",
    "# x축 레이블 설정\n",
    "plt.xlabel('Date')\n",
    "\n",
    "# y축 레이블 설정\n",
    "plt.ylabel('Price(won)')\n",
    "\n",
    "# x 축 설정(회전시키기)\n",
    "plt.xticks(rotation=45)\n",
    "\n",
    "# 범례 표시\n",
    "plt.legend()\n",
    "\n",
    "# 그래프 표시\n",
    "plt.show()"
   ]
  },
  {
   "cell_type": "markdown",
   "id": "4f44cceb",
   "metadata": {},
   "source": [
    "## 6. 간단한 분석 예시\n",
    "- 지난 1년의 최고, 최저, 종가와 현재 종가는 무슨 관계가 있을까 ?\n",
    "\n",
    "### 상관 관계\n",
    "  - 두 데이터 간의 관련성이나 연관성을 나타내는 통계적인 개념\n",
    "  - 데이터들 간의 선형적인 관계를 측정하고, 이 관계의 강도와 방향성을 파악하는 데 사용\n",
    "  - Pandas 의 `corr()` 메서드 사용\n",
    "    - \"1\"에 가까울수록 양의 상관 관계가 강함을 나타냅니다. 즉, 한 변수가 증가하면 다른 변수도 증가하는 경향이 있습니다.\n",
    "    - \"-1\"에 가까울수록 음의 상관 관계가 강함을 나타냅니다. 즉, 한 변수가 증가하면 다른 변수는 감소하는 경향이 있습니다.\n",
    "    - \"0\"에 가까울수록 두 변수 사이에는 선형적인 상관 관계가 거의 없음을 나타냅니다. 즉, 한 변수의 변화는 다른 변수에 영향을 미치지 않는 것으로 해석됩니다."
   ]
  },
  {
   "cell_type": "code",
   "execution_count": null,
   "id": "4f4e8061",
   "metadata": {},
   "outputs": [],
   "source": [
    "# CSV 파일 경로\n",
    "csv_path = \"archive/google-stock-dataset-Monthly.csv\"\n",
    "\n",
    "# CSV 파일 읽어오기 (첫 번째, 마지막 열 제외)\n",
    "df = pd.read_csv(csv_path, usecols=range(1, 7))\n",
    "\n",
    "# 가장 최근을 제외한 마지막 1년 추출\n",
    "df = df.tail(13)\n",
    "\n",
    "# 마지막 개월의 Close 가격\n",
    "last_month_close = df['Close'].iloc[-1]\n",
    "\n",
    "# 마지막 개월을 제외한 1년의 데이터와 마지막 개월의 종가 간의 상관 관계\n",
    "High_Close_corr = df['High'].iloc[:-1].corr(df['Close'])\n",
    "Low_Close_corr = df['Low'].iloc[:-1].corr(df['Close'])\n",
    "Volume_Colse_corr = df['Volume'].iloc[:-1].corr(df['Close'])\n",
    "\n",
    "print(f\"지난 1년의 High 가격과 마지막 개월의 Close 가격과의 상관 관계: {High_Close_corr}\")\n",
    "print(f\"지난 1년의 평균 최고가: {df['High'].iloc[:-1].mean()}\")\n",
    "\n",
    "print('----------------------------------------------')\n",
    "\n",
    "print(f\"지난 1년의 Low 가격과 마지막 개월의 Close 가격과의 상관 관계: {Low_Close_corr}\")\n",
    "print(f\"지난 1년의 평균 최저가: {df['Low'].iloc[:-1].mean()}\")\n",
    "\n",
    "print('----------------------------------------------')\n",
    "\n",
    "print(f\"지난 1년의 거래량과 마지막 개월의 Close 가격과의 상관 관계: {Volume_Colse_corr}\")\n",
    "print(f\"지난 1년의 평균 거래량: {df['Volume'].iloc[:-1].mean()}\")\n",
    "\n",
    "print('----------------------------------------------')"
   ]
  },
  {
   "cell_type": "markdown",
   "id": "e7914f78",
   "metadata": {},
   "source": [
    "- 그래프를 출력하며 분석을 해보자"
   ]
  },
  {
   "cell_type": "code",
   "execution_count": null,
   "id": "37cbaec0",
   "metadata": {},
   "outputs": [],
   "source": [
    "# 그래프 그리기\n",
    "plt.plot(df['Date'], df['Close'], label='Close')\n",
    "plt.plot(df['Date'], df['Low'], label='Low')\n",
    "plt.plot(df['Date'], df['High'], label='High')\n",
    "\n",
    "# 그래프 제목 설정\n",
    "plt.title('High, Low Prices over Time')\n",
    "\n",
    "# x축 레이블 설정\n",
    "plt.xlabel('Date')\n",
    "\n",
    "# y축 레이블 설정\n",
    "plt.ylabel('Price')\n",
    "\n",
    "# x 축 설정(회전시키기)\n",
    "plt.xticks(rotation=45)\n",
    "\n",
    "# 범례 표시\n",
    "plt.legend()\n",
    "\n",
    "# 그래프 표시\n",
    "plt.show()"
   ]
  },
  {
   "cell_type": "markdown",
   "id": "8e13761f",
   "metadata": {},
   "source": [
    "### 분석 결과\n",
    "- 지난 1년의 High 가격과 마지막 개월의 Close 가격과의 상관 관계: 0.74\n",
    "- 지난 1년의 Low 가격과 마지막 개월의 Close 가격과의 상관 관계: 0.77\n",
    "- 일반적으로 0.7 이상의 점수: 강한 상관 관계\n",
    "- 즉, High, Low 값에 Close 가격이 비례하는 성향이 있다!\n",
    "  - 3월과 4월의 최고가, 최저가가 상향하는 것으로 보인다!\n",
    "  - 5월에도 오를 것으로 보이니 매수하자! (잘못된 분석)\n",
    "\n",
    "### 상관 관계 분석 시 주의사항\n",
    "- 상관 관계가 높다고 해서 원인과 결과 사이에 직접적인 인과 관계가 있다고 가정해서는 안됩니다.\n",
    "- 예를 들어, \"날씨가 더워질수록 아이스크림 판매량이 증가한다\" 처럼 연관이 있을 수는 있으나, 직접적인 원인이 될 수는 없습니다!\n",
    "  - 상관 관계를 통해 변수들 간의 연관성을 파악할 수 있지만, 인과 관계를 정확히 파악하려면 추가적인 연구와 분석이 필요합니다.\n",
    "  - 다른 요인들이 포함된 복잡한 시스템에서는 인과 관계를 추론하기 위해 실험 설계나 다른 분석 방법을 사용해야 합니다.\n",
    "- `위의 예시처럼 잘못된 분석 결과를 내지 않도록 주의 하며 데이터 분석을 진행`해야 합니다."
   ]
  },
  {
   "cell_type": "code",
   "execution_count": null,
   "id": "2d3ab38c",
   "metadata": {},
   "outputs": [],
   "source": []
  }
 ],
 "metadata": {
  "kernelspec": {
   "display_name": "Python 3",
   "language": "python",
   "name": "python3"
  },
  "language_info": {
   "codemirror_mode": {
    "name": "ipython",
    "version": 3
   },
   "file_extension": ".py",
   "mimetype": "text/x-python",
   "name": "python",
   "nbconvert_exporter": "python",
   "pygments_lexer": "ipython3",
   "version": "3.8.8"
  }
 },
 "nbformat": 4,
 "nbformat_minor": 5
}

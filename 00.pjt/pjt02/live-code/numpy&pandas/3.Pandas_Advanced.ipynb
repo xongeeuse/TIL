{
 "cells": [
  {
   "cell_type": "markdown",
   "id": "b660f2ca",
   "metadata": {},
   "source": [
    "# Pandas 에서 많이 사용하는 함수들\n",
    "\n",
    "[Here are the 8 Functions I Use the Most](https://towardsdatascience.com/i-have-been-using-pandas-for-3-years-here-are-the-8-functions-i-use-the-most-4e54f4db56560) 참고"
   ]
  },
  {
   "cell_type": "markdown",
   "id": "5bd90672",
   "metadata": {},
   "source": [
    "## 목차\n",
    "\n",
    "1. [Pandas 로 csv 읽어오기](#1.-Pandas-로-csv-읽어오기)\n",
    "\n",
    "\n",
    "2. [value_counts](#2.-value_counts) - 필드 별 개수 확인\n",
    "\n",
    "\n",
    "3. [astype](#3.-astype) - 각 필드의 데이터 타입 확인\n",
    "\n",
    "\n",
    "4. [isna & notna](#4.-isna-&-notna) - 결측치 확인\n",
    "\n",
    "\n",
    "5. [dropna](#5.-dropna) - 결측치 제거\n",
    "\n",
    "\n",
    "6. [fillna](#6.-fillna) - 결측치를 특정 값으로 처리\n",
    "\n",
    "\n",
    "7. [groupby](#7.-groupby) - 특정 기준으로 그룹화하기\n",
    "\n",
    "\n",
    "8. [unique & nunique](#8.-unique-&-nunique) - 고유값의 개수 확인하기\n",
    "\n",
    "\n",
    "9. [정렬](#9.-정렬)"
   ]
  },
  {
   "cell_type": "code",
   "execution_count": null,
   "id": "5b9c283a",
   "metadata": {},
   "outputs": [],
   "source": [
    "import numpy as np\n",
    "import pandas as pd"
   ]
  },
  {
   "cell_type": "markdown",
   "id": "7b2bdd3e",
   "metadata": {},
   "source": [
    "## 1. Pandas 로 csv 읽어오기\n",
    "\n",
    "__기본__: pandas 에서 지원하는 데이터 파일을 읽어오는 함수"
   ]
  },
  {
   "cell_type": "code",
   "execution_count": null,
   "id": "911cd0fa",
   "metadata": {
    "scrolled": true
   },
   "outputs": [],
   "source": [
    "df = pd.read_csv('data/test_data.CSV', encoding='cp949')\n",
    "df.head()"
   ]
  },
  {
   "cell_type": "markdown",
   "id": "df598a9b",
   "metadata": {},
   "source": [
    "__parse_dates__: 열 이름을 넣어주면 데이터 타입을 datatime64[ns]로 변환해준다.  \n",
    "- `pd.to_datetime()` 함수로 datetime64 로 바꿀수도 있다.  \n",
    "- '2019-01-01' 같은 `String` 형태의 자료형을 `datetime64` 로 바꿀 수 있다."
   ]
  },
  {
   "cell_type": "markdown",
   "id": "74241269",
   "metadata": {},
   "source": [
    "__usecols__: 여러 열 중 필요한 열만 가져온다."
   ]
  },
  {
   "cell_type": "code",
   "execution_count": null,
   "id": "e0a4290b",
   "metadata": {
    "scrolled": true
   },
   "outputs": [],
   "source": [
    "df = pd.read_csv('data/test_data.CSV', encoding='cp949', usecols=['이름', '나이'])\n",
    "df.head()"
   ]
  },
  {
   "cell_type": "markdown",
   "id": "7294db86",
   "metadata": {},
   "source": [
    "__nrows__: 파일의 처음 n개의 행을 읽는다. 데이터 세트가 매우 큰 경우 유용하다."
   ]
  },
  {
   "cell_type": "code",
   "execution_count": null,
   "id": "dba8b507",
   "metadata": {},
   "outputs": [],
   "source": [
    "df = pd.read_csv('data/test_data.CSV', encoding='cp949', nrows=10)\n",
    "df.shape"
   ]
  },
  {
   "cell_type": "code",
   "execution_count": null,
   "id": "695ceb04",
   "metadata": {},
   "outputs": [],
   "source": [
    "df"
   ]
  },
  {
   "cell_type": "markdown",
   "id": "013f07c8",
   "metadata": {},
   "source": [
    "##  2. value_counts\n",
    "\n",
    "기본 함수에도 있던 함수. 범주형 열의 값 분포를 확인하는 데 유용하다.  \n",
    "발생 횟수와 함께 열의 고유 값을 반환한다."
   ]
  },
  {
   "cell_type": "code",
   "execution_count": null,
   "id": "4cba497c",
   "metadata": {
    "scrolled": true
   },
   "outputs": [],
   "source": [
    "df = pd.read_csv('data/test_data.CSV', encoding='cp949')\n",
    "df[\"성별\"].value_counts()"
   ]
  },
  {
   "cell_type": "markdown",
   "id": "e7014f39",
   "metadata": {},
   "source": [
    "`normalize` 를 통해 분포를 비율로 확인할 수 있다."
   ]
  },
  {
   "cell_type": "code",
   "execution_count": null,
   "id": "91132885",
   "metadata": {},
   "outputs": [],
   "source": [
    "df[\"성별\"].value_counts(normalize=True)"
   ]
  },
  {
   "cell_type": "markdown",
   "id": "2b9889ea",
   "metadata": {},
   "source": [
    "## 3. astype\n",
    "\n",
    "데이터 분석 전 데이터 타입을 적절한 것으로 변환하는 건 거의 필수다.  \n",
    "어떤 함수들은 적절한 데이터 타입에서 훨씬 더 효율적으로 동작하거나, 일부 함수들은 아예 특정 데이터 타입에서만 사용할 수 있다."
   ]
  },
  {
   "cell_type": "code",
   "execution_count": null,
   "id": "e703af9f",
   "metadata": {
    "scrolled": true
   },
   "outputs": [],
   "source": [
    "df['이름'] = df['이름'].astype(str)\n",
    "df.dtypes"
   ]
  },
  {
   "cell_type": "markdown",
   "id": "c64b91cb",
   "metadata": {},
   "source": [
    "string 형태는 object 로 출력된다.  \n",
    "\n",
    "여러 열의 데이터 타입을 한 번에 변경하려면 딕셔너리를 사용하면 된다."
   ]
  },
  {
   "cell_type": "code",
   "execution_count": null,
   "id": "d1a7efc6",
   "metadata": {},
   "outputs": [],
   "source": [
    "df = df.astype({'성별': 'category', '직업': 'str'})\n",
    "df.dtypes"
   ]
  },
  {
   "cell_type": "markdown",
   "id": "ebcdc359",
   "metadata": {},
   "source": [
    "## 4. isna & notna\n",
    "\n",
    "[참고] - na 는 Numpy 의 Na(Not a Number)값을 의미함\n",
    "\n",
    "데이터에 비어있는 값(결측값) 이 존재하는 경우가 있다.\n",
    "\n",
    "`test_data_has_null.CSV` 파일을 열어서 확인해보자."
   ]
  },
  {
   "cell_type": "code",
   "execution_count": null,
   "id": "fb84d2da",
   "metadata": {},
   "outputs": [],
   "source": [
    "df = pd.read_csv('data/test_data_has_null.CSV', encoding='cp949')\n",
    "df.head()"
   ]
  },
  {
   "cell_type": "markdown",
   "id": "ef47da91",
   "metadata": {},
   "source": [
    "위와 같이 결측값은 `NaN` 으로 출력된다.\n",
    "\n",
    "`isna` 함수와 `notna` 함수는 DataFrame 내의 결측값을 확인해서 `bool` 형식으로 반환하는 함수이다.  \n",
    "`isna` 의 경우 결측값이면 `True` 반환, 정상값이면 `False` 를 반환하며,  \n",
    "`notna` 의 경우 결측값이면 `False` 반환, 정상값이면 `True` 를 반환한다.\n",
    "\n",
    "__주의사항__: 무한값(`np.inf`) 나 띄워쓰기`' '`의 경우 결측값으로 판단하지 않는다.\n",
    "\n",
    "#### isna"
   ]
  },
  {
   "cell_type": "code",
   "execution_count": null,
   "id": "dfbba334",
   "metadata": {
    "scrolled": true
   },
   "outputs": [],
   "source": [
    "df.head().isna()"
   ]
  },
  {
   "cell_type": "markdown",
   "id": "7f78fbe7",
   "metadata": {},
   "source": [
    "#### notna"
   ]
  },
  {
   "cell_type": "code",
   "execution_count": null,
   "id": "740794fc",
   "metadata": {},
   "outputs": [],
   "source": [
    "df.head().notna()"
   ]
  },
  {
   "cell_type": "markdown",
   "id": "0e7691df",
   "metadata": {},
   "source": [
    "#### 누락된 값의 수 구하기"
   ]
  },
  {
   "cell_type": "code",
   "execution_count": null,
   "id": "ce6ca97a",
   "metadata": {
    "scrolled": true
   },
   "outputs": [],
   "source": [
    "df.isna().sum()"
   ]
  },
  {
   "cell_type": "markdown",
   "id": "1c0eee18",
   "metadata": {},
   "source": [
    "#### 행 별로 누락된 값의 수 구하기"
   ]
  },
  {
   "cell_type": "code",
   "execution_count": null,
   "id": "4d6bb2f1",
   "metadata": {
    "scrolled": true
   },
   "outputs": [],
   "source": [
    "df.isna().sum(axis=1)"
   ]
  },
  {
   "cell_type": "markdown",
   "id": "d2cb5233",
   "metadata": {},
   "source": [
    "__isnull() vs isna()__\n",
    "\n",
    "동일한 함수이다.  \n",
    "DB 에 저장된 결측치는 `null` 이라고 표시되는데, 이에 익숙한 사람들을 위해 `isna()` 의 별칭으로 `isnull()` 을 만들어 두었다."
   ]
  },
  {
   "cell_type": "markdown",
   "id": "00a8b51c",
   "metadata": {},
   "source": [
    "---\n",
    "\n",
    "이러한 결측치를 처리하는 2가지 방법이 존재한다.\n",
    "- 1. 버리기(Drop) - dropna\n",
    "- 2. 채우기(Fill) - fillna"
   ]
  },
  {
   "cell_type": "markdown",
   "id": "da5503e1",
   "metadata": {},
   "source": [
    "## 5. dropna\n",
    "\n",
    "첫 번째 방법으로, 누락된 값이 있는 행이나 열을 삭제하는 데 사용되는데, 다음 매개변수들이 존재한다.\n",
    "\n",
    "참고사이트 - [pandas Docs - Dropna](https://pandas.pydata.org/pandas-docs/stable/reference/api/pandas.DataFrame.dropna.html)\n",
    "\n",
    "### axis\n",
    "- __0__ or __'index'__ : 결측값이 있는 행을 삭제 -> default\n",
    "- __1__ or __'columns'__ : 결측값이 있는 열을 삭제"
   ]
  },
  {
   "cell_type": "code",
   "execution_count": null,
   "id": "6be2e857",
   "metadata": {},
   "outputs": [],
   "source": [
    "df = pd.read_csv('data/test_data_has_null.CSV', encoding='cp949')"
   ]
  },
  {
   "cell_type": "code",
   "execution_count": null,
   "id": "10d6bc25",
   "metadata": {
    "scrolled": true
   },
   "outputs": [],
   "source": [
    "df.isna().sum()"
   ]
  },
  {
   "cell_type": "markdown",
   "id": "fecbfe25",
   "metadata": {},
   "source": [
    "`dropna()` 는 DataFrame 을 반환한다.  \n",
    "원본 DataFrame 을 변경하고 싶으면 `inplace=True` 를 설정해준다"
   ]
  },
  {
   "cell_type": "code",
   "execution_count": null,
   "id": "8ae447e2",
   "metadata": {},
   "outputs": [],
   "source": [
    "df.dropna(axis=0)\n",
    "df.isna().sum()"
   ]
  },
  {
   "cell_type": "code",
   "execution_count": null,
   "id": "6a462f2f",
   "metadata": {
    "scrolled": true
   },
   "outputs": [],
   "source": [
    "df.dropna(axis=0, inplace=True)\n",
    "df.isna().sum()"
   ]
  },
  {
   "cell_type": "markdown",
   "id": "35e31c71",
   "metadata": {},
   "source": [
    "### how\n",
    "- __any__: row 또는 column 에 NaN 값이 1개만 있어도 drop -> default\n",
    "- __all__: row 또는 column 에 있는 모든 값이 NaN 이어야 drop"
   ]
  },
  {
   "cell_type": "code",
   "execution_count": null,
   "id": "2d4a00f0",
   "metadata": {},
   "outputs": [],
   "source": [
    "df = pd.read_csv('data/test_data_has_null.CSV', encoding='cp949')\n",
    "df.dropna(axis=0, how='all', inplace=True)\n",
    "df.isna().sum()"
   ]
  },
  {
   "cell_type": "markdown",
   "id": "137d4742",
   "metadata": {},
   "source": [
    "### thresh\n",
    "- 결측값이 아닌 열이 몇 개 이상일 경우 삭제하지 않는다는 임계치(기준)을 설정한다.\n",
    "- `axis=0, thresh=3` 일 때, 결측값이 아닌 열이 3개 이상이면 삭제하지 않는다."
   ]
  },
  {
   "cell_type": "code",
   "execution_count": null,
   "id": "45afb189",
   "metadata": {},
   "outputs": [],
   "source": [
    "df = pd.read_csv('data/test_data_has_null.CSV', encoding='cp949')\n",
    "df"
   ]
  },
  {
   "cell_type": "code",
   "execution_count": null,
   "id": "562c3148",
   "metadata": {},
   "outputs": [],
   "source": [
    "df = pd.read_csv('data/test_data_has_null.CSV', encoding='cp949')\n",
    "df.dropna(axis=0, thresh=4, inplace=True)\n",
    "df.isna().sum()"
   ]
  },
  {
   "cell_type": "code",
   "execution_count": null,
   "id": "32ab7051",
   "metadata": {},
   "outputs": [],
   "source": [
    "df.shape"
   ]
  },
  {
   "cell_type": "markdown",
   "id": "b5cfb9a1",
   "metadata": {},
   "source": [
    "## 6. fillna\n",
    "\n",
    "결측값을 다른 적절한 값으로 채워준다."
   ]
  },
  {
   "cell_type": "code",
   "execution_count": null,
   "id": "e7addd64",
   "metadata": {
    "scrolled": true
   },
   "outputs": [],
   "source": [
    "df.head()"
   ]
  },
  {
   "cell_type": "code",
   "execution_count": null,
   "id": "06795382",
   "metadata": {
    "scrolled": true
   },
   "outputs": [],
   "source": [
    "df['직업'].fillna('무직', inplace=True)\n",
    "df.head()"
   ]
  },
  {
   "cell_type": "code",
   "execution_count": null,
   "id": "fcd2865b",
   "metadata": {},
   "outputs": [],
   "source": [
    "df.isna().sum()"
   ]
  },
  {
   "cell_type": "markdown",
   "id": "a096e9b1",
   "metadata": {},
   "source": [
    "## 7. groupby\n",
    "\n",
    "열의 고유한 값을 기반으로 행을 그룹화한다.  \n",
    "독립된 그룹에 대하여 __별도로 데이터를 처리__ 하거나 __그룹별 통계량__ 을 확인하고자 할 때 유용하다.  \n",
    "\n",
    "groupby 는 아래 3단계로 이루어 진다"
   ]
  },
  {
   "cell_type": "markdown",
   "id": "bfa42b22",
   "metadata": {},
   "source": [
    "![groupby image](./data/pandas-groupby-split-apply-combine.svg)\n",
    "\n",
    "이미지 출처: [www.w3resource.com](https://www.w3resource.com/)"
   ]
  },
  {
   "cell_type": "markdown",
   "id": "e3b2958b",
   "metadata": {},
   "source": [
    "__1. Split__: `.groupby()` 에서 정의한 컬럼 조건에 따라 독립된 그룹으로 나누는 단계. 위 사진에서는 `ID` 값을 기준으로 그룹으로 나누었고, 결과로 `X`, `Y`, `Z` 3개의 sub-group 으로 분할되었다.\n",
    "\n",
    "__2. Apply__: sub-group 에 그룹별 함수를 적용하는 단계. 예시에서는 합계(sum) 함수를 적용하여 각 그룹 별 총계가 합산된 결과를 확인할 수 있다.\n",
    "\n",
    "__3. Combine__: 각 sub-group 별로 함수가 적용된 결과를 종합하여 다시 하나의 테이블로 합침\n",
    "\n",
    "이러한 과정을 이용하여 데이터 전처리/분석 시 유용하게 활용할 수 있다.\n",
    "\n",
    "아래 예시는 `직업 별 평균 나이` 를 구하는 예시 코드이다."
   ]
  },
  {
   "cell_type": "code",
   "execution_count": null,
   "id": "fb75fbda",
   "metadata": {},
   "outputs": [],
   "source": [
    "df = pd.read_csv('data/test_data_has_null.CSV', encoding='cp949')"
   ]
  },
  {
   "cell_type": "code",
   "execution_count": null,
   "id": "28d174f6",
   "metadata": {
    "scrolled": true
   },
   "outputs": [],
   "source": [
    "df.groupby('직업').mean()"
   ]
  },
  {
   "cell_type": "markdown",
   "id": "6bebe3b8",
   "metadata": {},
   "source": [
    "__참고 - 경고문__: 위의 함수는 평균치를 구하는 함수이다. 평균치라는 것은 숫자에 대해서만(`numeric_only`) 작동이 가능하기 때문에, 숫자로 이루어진 열에만 계산을 적용하라는 뜻으로 `numeric_only` 옵션이 기본적으로 `True` 로 설정되어 있다.  \n",
    "미래 버전에서는 해당 옵션 기본값이 `False` 로 변하므로, 직접 `True` 로 설정하여 버그를 없애라는 경고 문구이다.  \n",
    "아래와 같이 옵션을 지정하면 버그가 없어진다."
   ]
  },
  {
   "cell_type": "code",
   "execution_count": null,
   "id": "0c46c7c2",
   "metadata": {
    "scrolled": true
   },
   "outputs": [],
   "source": [
    "df.groupby('직업').mean(numeric_only=True)"
   ]
  },
  {
   "cell_type": "markdown",
   "id": "ed8bef8c",
   "metadata": {},
   "source": [
    "위 코드는\n",
    "1. 직업 별로 분할\n",
    "2. 직업 별로 분할된 테이블의 숫자로 된 모든 열('나이') 의 평균 계산\n",
    "3. 통합  \n",
    "을 통해 위와 같은 결과가 나온다\n",
    "\n",
    "하나의 예시만 더 해보자.\n",
    "\n",
    "`직업 별 평균 나이` 에서 `성별을 추가적으로 구분하여 출력` 하는 예시 코드이다."
   ]
  },
  {
   "cell_type": "code",
   "execution_count": null,
   "id": "25245ce8",
   "metadata": {
    "scrolled": false
   },
   "outputs": [],
   "source": [
    "df.groupby(['직업', '성별']).mean(numeric_only=True).reset_index()"
   ]
  },
  {
   "cell_type": "markdown",
   "id": "1cda5f52",
   "metadata": {},
   "source": [
    "이와 같이 여러 그룹으로 구분하여, 여러가지 통계적인 계산이나 수학 연산 등이 가능하다.  \n",
    "아래 Docs 를 참고하여 여러 예제 코드를 사용해보자.\n",
    "\n",
    "[Pandas Docs - Groupby](https://pandas.pydata.org/docs/reference/groupby.html) 참고"
   ]
  },
  {
   "cell_type": "markdown",
   "id": "fd5f4050",
   "metadata": {},
   "source": [
    "## 8. unique & nunique\n",
    "- __unique__: 고유값의 종류를 모두 출력\n",
    "- __nunique__: 고유값의 개수를 반환"
   ]
  },
  {
   "cell_type": "code",
   "execution_count": null,
   "id": "e173ff49",
   "metadata": {},
   "outputs": [],
   "source": [
    "df['직업'].unique()"
   ]
  },
  {
   "cell_type": "code",
   "execution_count": null,
   "id": "65508ad9",
   "metadata": {},
   "outputs": [],
   "source": [
    "df['직업'].nunique()"
   ]
  },
  {
   "cell_type": "markdown",
   "id": "93a2c9f4",
   "metadata": {},
   "source": [
    "## 9. 정렬\n",
    "- `sort_values()` 함수를 사용한다"
   ]
  },
  {
   "cell_type": "markdown",
   "id": "83d703aa",
   "metadata": {},
   "source": [
    "9.1. 정렬의 기준은 기본적으로 오름차순이다"
   ]
  },
  {
   "cell_type": "code",
   "execution_count": null,
   "id": "bcf906fa",
   "metadata": {
    "scrolled": true
   },
   "outputs": [],
   "source": [
    "df['직업'].sort_values()"
   ]
  },
  {
   "cell_type": "markdown",
   "id": "2d25256b",
   "metadata": {},
   "source": [
    "9.2. 내림차순은 `ascending=False` 옵션을 추가해준다."
   ]
  },
  {
   "cell_type": "code",
   "execution_count": null,
   "id": "ee694ee7",
   "metadata": {
    "scrolled": true
   },
   "outputs": [],
   "source": [
    "df['직업'].sort_values(ascending=False)"
   ]
  },
  {
   "cell_type": "markdown",
   "id": "25602465",
   "metadata": {},
   "source": [
    "9.3. 모든 컬럼을 보기 위해서는 `by` 옵션을 활용한다."
   ]
  },
  {
   "cell_type": "code",
   "execution_count": null,
   "id": "511e9dec",
   "metadata": {
    "scrolled": true
   },
   "outputs": [],
   "source": [
    "df.sort_values(by=['나이'])"
   ]
  },
  {
   "cell_type": "markdown",
   "id": "48baabef",
   "metadata": {},
   "source": [
    "9.4. 두 가지 이상의 정렬을 하는 방법은 다음과 같다.  \n",
    "- 직업 별 오름차순, 나이 별 내림차순\n",
    "- ascending 옵션을 정렬 필드 순서대로 각각 지정해준다."
   ]
  },
  {
   "cell_type": "code",
   "execution_count": null,
   "id": "19ea4515",
   "metadata": {},
   "outputs": [],
   "source": [
    "df.sort_values(by=['직업', '나이'], ascending=[True, False])"
   ]
  }
 ],
 "metadata": {
  "kernelspec": {
   "display_name": "Python 3",
   "language": "python",
   "name": "python3"
  },
  "language_info": {
   "codemirror_mode": {
    "name": "ipython",
    "version": 3
   },
   "file_extension": ".py",
   "mimetype": "text/x-python",
   "name": "python",
   "nbconvert_exporter": "python",
   "pygments_lexer": "ipython3",
   "version": "3.8.8"
  }
 },
 "nbformat": 4,
 "nbformat_minor": 5
}

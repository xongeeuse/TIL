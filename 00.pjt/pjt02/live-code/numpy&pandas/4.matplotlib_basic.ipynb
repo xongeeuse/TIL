{
 "cells": [
  {
   "cell_type": "markdown",
   "id": "cd34b6af",
   "metadata": {},
   "source": [
    "# Matplotlib 기본 사용법 익히기"
   ]
  },
  {
   "cell_type": "markdown",
   "id": "98894784",
   "metadata": {},
   "source": [
    "## 목차\n",
    "\n",
    "1. [필요 패키지 설치 및 import](#1.-필요-패키지-설치-및-import)\n",
    "\n",
    "2. [matplotlib 기본 사용법(라인 그래프 그리기)](#2.-matplotlib-기본-사용법(라인-그래프-그리기))\n",
    "\n",
    "3. [두 가지 선 그리기](#3.-두-가지-선-그리기)\n",
    "\n",
    "4. [막대 그래프 그리기](#4.-막대-그래프-그리기)\n",
    "\n",
    "5. [히스토그램 그리기](#5.-히스토그램-그리기)\n",
    "\n",
    "6. [데이터와 함께 활용해보기](#6.-데이터와-함께-활용해보기)"
   ]
  },
  {
   "cell_type": "markdown",
   "id": "80f3f994",
   "metadata": {},
   "source": [
    "## 1. 필요 패키지 설치 및 import"
   ]
  },
  {
   "cell_type": "code",
   "execution_count": null,
   "id": "bae40deb",
   "metadata": {},
   "outputs": [],
   "source": [
    "import numpy as np\n",
    "import pandas as pd\n",
    "import matplotlib.pyplot as plt"
   ]
  },
  {
   "cell_type": "markdown",
   "id": "ab6e4c1e",
   "metadata": {},
   "source": [
    "## 2. matplotlib 기본 사용법(라인 그래프 그리기)"
   ]
  },
  {
   "cell_type": "code",
   "execution_count": null,
   "id": "8475d074",
   "metadata": {},
   "outputs": [],
   "source": [
    "import matplotlib.pyplot as plt\n",
    "\n",
    "# 데이터 생성\n",
    "x = [1, 2, 3, 4, 5]  # x 좌표값\n",
    "y = [2, 4, 6, 8, 10]  # y 좌표값\n",
    "\n",
    "# 그래프 그리기\n",
    "plt.plot(x, y)\n",
    "\n",
    "# 그래프에 제목과 축 레이블 추가\n",
    "plt.title('Simple Line Plot')\n",
    "plt.xlabel('X-axis')\n",
    "plt.ylabel('Y-axis')\n",
    "\n",
    "# 그래프 표시\n",
    "plt.show()\n"
   ]
  },
  {
   "cell_type": "markdown",
   "id": "efaacee3",
   "metadata": {},
   "source": [
    "## 3. 두 가지 선 그리기"
   ]
  },
  {
   "cell_type": "code",
   "execution_count": null,
   "id": "409e4ae2",
   "metadata": {
    "scrolled": true
   },
   "outputs": [],
   "source": [
    "\n",
    "# 데이터 생성\n",
    "x = [1, 2, 3, 4, 5]  # x 좌표값\n",
    "y = [2, 4, 6, 8, 10]  # y 좌표값\n",
    "y2 = [3, 6, 9, 12, 15] # y2 좌표값\n",
    "\n",
    "# 그래프 그리기\n",
    "plt.plot(x, y, label='y')\n",
    "plt.plot(x, y2, label='y2')\n",
    "\n",
    "# 범례 추가\n",
    "plt.legend()\n",
    "\n",
    "# 그래프에 제목과 축 레이블 추가\n",
    "plt.title('Simple Line Plot')\n",
    "plt.xlabel('X-axis')\n",
    "plt.ylabel('Y-axis')\n",
    "\n",
    "# 그래프 표시\n",
    "plt.show()\n"
   ]
  },
  {
   "cell_type": "markdown",
   "id": "c948ad56",
   "metadata": {},
   "source": [
    "## 4. 막대 그래프 그리기\n",
    "- 범주형 데이터를 시각화하기 위해 사용되며, 주로 범주 간의 비교를 위해 사용됨\n",
    "- 각 막대는 독립적이며, 막대 간의 간격이 존재합니다.\n",
    "- ex) 다양한 제품의 판매량 비교"
   ]
  },
  {
   "cell_type": "code",
   "execution_count": null,
   "id": "2238eafa",
   "metadata": {},
   "outputs": [],
   "source": [
    "import matplotlib.pyplot as plt\n",
    "\n",
    "# 데이터 생성\n",
    "x = ['A', 'B', 'C', 'D', 'E']  # 카테고리\n",
    "y = [3, 7, 2, 5, 9]  # 값\n",
    "\n",
    "# 그래프 그리기\n",
    "plt.bar(x, y)\n",
    "\n",
    "# 그래프에 제목과 축 레이블 추가\n",
    "plt.title('Bar Plot')\n",
    "plt.xlabel('Category')\n",
    "plt.ylabel('Value')\n",
    "\n",
    "# 그래프 표시\n",
    "plt.show()\n"
   ]
  },
  {
   "cell_type": "markdown",
   "id": "38e975e6",
   "metadata": {},
   "source": [
    "## 5. 히스토그램 그리기\n",
    "- 연속된 데이터의 분포를 시각화하기 위해 사용됨\n",
    "- 데이터를 구간으로 나누고, 각 구간에 속하는 데이터의 빈도수 또는 밀도를 나타냄\n",
    "- ex) 시험 점수의 분포, 연령대에 따른 인구 분포 등"
   ]
  },
  {
   "cell_type": "code",
   "execution_count": null,
   "id": "4cdb3afa",
   "metadata": {},
   "outputs": [],
   "source": [
    "import matplotlib.pyplot as plt\n",
    "import numpy as np\n",
    "\n",
    "# 데이터 생성\n",
    "data = np.random.randn(1000)  # 랜덤한 데이터\n",
    "\n",
    "# 그래프 그리기\n",
    "plt.hist(data, bins=30)\n",
    "\n",
    "# 그래프에 제목과 축 레이블 추가\n",
    "plt.title('Histogram')\n",
    "plt.xlabel('Value')\n",
    "plt.ylabel('Frequency')\n",
    "\n",
    "# 그래프 표시\n",
    "plt.show()\n"
   ]
  },
  {
   "cell_type": "markdown",
   "id": "245e40c6",
   "metadata": {},
   "source": [
    "## 6. 데이터와 함께 활용해보기"
   ]
  },
  {
   "cell_type": "markdown",
   "id": "ea07cf1a",
   "metadata": {},
   "source": [
    "- csv 파일을 읽어와 Pandas DataFrame 생성하기"
   ]
  },
  {
   "cell_type": "code",
   "execution_count": null,
   "id": "31799ed2",
   "metadata": {},
   "outputs": [],
   "source": [
    "# Numpy 를 활용한 csv file open\n",
    "def file_open_by_numpy():\n",
    "    # np.loadtxt(구분자 = ',', 데이터 타입: string)\n",
    "    np_arr = np.loadtxt('data/test_data.CSV', delimiter=\",\", encoding='cp949', dtype=str)\n",
    "    return np_arr\n",
    "\n",
    "arr = file_open_by_numpy()\n",
    "\n",
    "# 첫 번째 열을 헤더로 하는 데이터 프레임 생성\n",
    "header = arr[0, :]  # 첫 번째 행을 헤더로 사용\n",
    "data = arr[1:, :]  # 첫 번째 행을 제외한 나머지 데이터\n",
    "\n",
    "df = pd.DataFrame(data, columns=header)\n",
    "df.head()"
   ]
  },
  {
   "cell_type": "code",
   "execution_count": null,
   "id": "0294c842",
   "metadata": {},
   "outputs": [],
   "source": [
    "df.dtypes"
   ]
  },
  {
   "cell_type": "code",
   "execution_count": null,
   "id": "ac7703ff",
   "metadata": {},
   "outputs": [],
   "source": [
    "# 나이 필드를 숫자 형식으로 변환\n",
    "df['나이'] = df['나이'].astype(int)\n",
    "\n",
    "# 나이에 대한 히스토그램 출력\n",
    "df['나이'].plot(kind='hist', bins=10)\n",
    "\n",
    "# 그래프 제목 설정\n",
    "plt.title('Age Distribution')\n",
    "\n",
    "# x축 레이블 설정\n",
    "plt.xlabel('Age')\n",
    "\n",
    "# y축 레이블 설정\n",
    "plt.ylabel('Count')\n",
    "\n",
    "# 그래프 출력\n",
    "plt.show()"
   ]
  },
  {
   "cell_type": "code",
   "execution_count": null,
   "id": "9d07ca42",
   "metadata": {},
   "outputs": [],
   "source": []
  },
  {
   "cell_type": "code",
   "execution_count": null,
   "id": "947b43b7",
   "metadata": {},
   "outputs": [],
   "source": []
  },
  {
   "cell_type": "code",
   "execution_count": null,
   "id": "de208177",
   "metadata": {},
   "outputs": [],
   "source": []
  },
  {
   "cell_type": "code",
   "execution_count": null,
   "id": "d59b491d",
   "metadata": {},
   "outputs": [],
   "source": []
  },
  {
   "cell_type": "code",
   "execution_count": null,
   "id": "20ec4115",
   "metadata": {},
   "outputs": [],
   "source": []
  },
  {
   "cell_type": "code",
   "execution_count": null,
   "id": "3f7b6244",
   "metadata": {},
   "outputs": [],
   "source": []
  }
 ],
 "metadata": {
  "kernelspec": {
   "display_name": "Python 3",
   "language": "python",
   "name": "python3"
  },
  "language_info": {
   "codemirror_mode": {
    "name": "ipython",
    "version": 3
   },
   "file_extension": ".py",
   "mimetype": "text/x-python",
   "name": "python",
   "nbconvert_exporter": "python",
   "pygments_lexer": "ipython3",
   "version": "3.8.8"
  }
 },
 "nbformat": 4,
 "nbformat_minor": 5
}

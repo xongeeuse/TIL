{
 "cells": [
  {
   "cell_type": "markdown",
   "id": "4aba3cd3",
   "metadata": {},
   "source": [
    "# Numpy 기본 사용법 익히기"
   ]
  },
  {
   "cell_type": "markdown",
   "id": "9d2e032d",
   "metadata": {},
   "source": [
    "## 목차\n",
    "\n",
    "1. [필요 패키지 설치 및 import](#1.-필요-패키지-설치-및-import)\n",
    "  \n",
    " \n",
    "2. [Numpy 기본 사용법](#2.-Numpy-기본-사용법)\n",
    "    - 2.1 [기존 배열을 numpy array 로 변형](#2.1.-기존-배열을-numpy-array-로-변형)\n",
    "    - 2.2 [Numpy 배열 생성](#2.2.-Numpy-배열-생성)\n",
    "        - 2.2.1 [기본 배열 생성](#2.2.1.-기본-배열-생성)\n",
    "        - 2.2.2. [Numpy 2차원 배열 생성](#2.2.2.-Numpy-2차원-배열-생성)\n",
    "        - 2.2.3. [0으로만 이루어진 배열 생성](#2.2.3.-0으로만-이루어진-배열-생성)\n",
    "        - 2.2.4. [1로만 이루어진 배열 생성](#2.2.4.-1로만-이루어진-배열-생성)\n",
    "        - 2.2.5. [특정 수로 이루어진 배열 생성](#2.2.5.-특정-수로-이루어진-배열-생성)\n",
    "        - 2.2.6. [균일한 간격의 숫자 생성](#2.2.6.-균일한-간격의-숫자-생성)\n",
    "        - 2.2.7. [랜덤한 값 생성](#2.2.7.-랜덤한-값-생성)\n",
    "        \n",
    "        \n",
    "3. [기본 함수](#3.-기본-함수)\n",
    "\n",
    "\n",
    "4. [Indexing & Slicing](#4.-Indexing-&-Slicing)\n",
    "    - 4.1 [Indexing](#4.1-Indexing)\n",
    "    - 4.2 [Slicing](#4.2-Slicing)\n",
    "    \n",
    "    \n",
    "5. [배열 값 수정 & 복사하기](#5.-배열-값-수정-&-복사하기)"
   ]
  },
  {
   "cell_type": "markdown",
   "id": "f7f98ab1",
   "metadata": {},
   "source": [
    "## 1. 필요 패키지 설치 및 import"
   ]
  },
  {
   "cell_type": "code",
   "execution_count": null,
   "id": "8a619f76",
   "metadata": {
    "scrolled": false
   },
   "outputs": [],
   "source": [
    "# pip install numpy"
   ]
  },
  {
   "cell_type": "code",
   "execution_count": null,
   "id": "0efcc3ac",
   "metadata": {
    "scrolled": true
   },
   "outputs": [],
   "source": [
    "# pip install pandas"
   ]
  },
  {
   "cell_type": "code",
   "execution_count": null,
   "id": "f8516d90",
   "metadata": {},
   "outputs": [],
   "source": [
    "import csv\n",
    "import numpy as np\n",
    "import pandas as pd"
   ]
  },
  {
   "cell_type": "markdown",
   "id": "d43be5b2",
   "metadata": {},
   "source": [
    "## 2. Numpy 기본 사용법"
   ]
  },
  {
   "cell_type": "markdown",
   "id": "23a2ced6",
   "metadata": {},
   "source": [
    "### 2.1. 기존 배열을 numpy array 로 변형\n",
    "- `np.array()` 함수 사용"
   ]
  },
  {
   "cell_type": "code",
   "execution_count": null,
   "id": "f9458e1d",
   "metadata": {
    "scrolled": true
   },
   "outputs": [],
   "source": [
    "arr = [1, 2, 3, 4, 5]\n",
    "np_arr = np.array(arr)\n",
    "print(np_arr)"
   ]
  },
  {
   "cell_type": "markdown",
   "id": "5f0e7944",
   "metadata": {},
   "source": [
    "- `type()` 함수를 통한 타입 확인"
   ]
  },
  {
   "cell_type": "code",
   "execution_count": null,
   "id": "855507bf",
   "metadata": {},
   "outputs": [],
   "source": [
    "print(type(np_arr))"
   ]
  },
  {
   "cell_type": "markdown",
   "id": "5aa8dd73",
   "metadata": {},
   "source": [
    "---\n",
    "\n",
    "### 2.2. Numpy 배열 생성\n",
    "\n",
    "#### 2.2.1. 기본 배열 생성\n",
    "- `np.arange()` 함수 사용"
   ]
  },
  {
   "cell_type": "code",
   "execution_count": null,
   "id": "f3d2bff7",
   "metadata": {},
   "outputs": [],
   "source": [
    "arr = np.arange(15)\n",
    "print(arr)"
   ]
  },
  {
   "cell_type": "markdown",
   "id": "7db5a74f",
   "metadata": {},
   "source": [
    "- python 의 range 함수와 비슷하게도 사용가능하다"
   ]
  },
  {
   "cell_type": "code",
   "execution_count": null,
   "id": "ae49cb95",
   "metadata": {},
   "outputs": [],
   "source": [
    "arr = np.arange(10, 30, 5)\n",
    "print(arr)"
   ]
  },
  {
   "cell_type": "markdown",
   "id": "f45fadd6",
   "metadata": {},
   "source": [
    "---\n",
    "\n",
    "#### 2.2.2. Numpy 2차원 배열 생성\n",
    "- `np.arange()` 함수로 배열 생성 후 `reshape()` 를 통해 2차원 배열로 변형\n",
    "- __주의사항__: reshape 의 x, y 축 곱이 배열의 개수와 맞지 않으면 에러가 발생함"
   ]
  },
  {
   "cell_type": "code",
   "execution_count": null,
   "id": "05276ad6",
   "metadata": {},
   "outputs": [],
   "source": [
    "# reshape(x축 개수, y축 개수)\n",
    "arr = np.arange(15).reshape(3, 5)\n",
    "print(arr)"
   ]
  },
  {
   "cell_type": "markdown",
   "id": "bb97eb89",
   "metadata": {},
   "source": [
    "- 에러 발생 코드"
   ]
  },
  {
   "cell_type": "code",
   "execution_count": null,
   "id": "813407f0",
   "metadata": {
    "scrolled": true
   },
   "outputs": [],
   "source": [
    "arr = np.arange(20).reshape(3, 5)\n",
    "print(arr)"
   ]
  },
  {
   "cell_type": "markdown",
   "id": "87d5895d",
   "metadata": {},
   "source": [
    "---\n",
    "\n",
    "#### 2.2.3. 0으로만 이루어진 배열 생성\n",
    "- `np.ones()` 사용"
   ]
  },
  {
   "cell_type": "code",
   "execution_count": null,
   "id": "0fd80a62",
   "metadata": {
    "scrolled": true
   },
   "outputs": [],
   "source": [
    "# np.zeros((x축 개수, y축 개수), dtype=데이터 타입)\n",
    "arr = np.zeros((3, 4), dtype=np.int64)\n",
    "print(arr)"
   ]
  },
  {
   "cell_type": "markdown",
   "id": "dced1bf5",
   "metadata": {},
   "source": [
    "위의 (행, 축) 표현처럼 __numpy 는 항상 `(행, 축)` 의 형태로 사용한다.__\n",
    "\n",
    "---\n",
    "\n",
    "#### 2.2.4. 1로만 이루어진 배열 생성"
   ]
  },
  {
   "cell_type": "code",
   "execution_count": null,
   "id": "bca83642",
   "metadata": {},
   "outputs": [],
   "source": [
    "# np.ones((x축 개수, y축 개수), dtype=데이터 타입)\n",
    "arr = np.ones((3, 4), dtype=np.int64)\n",
    "print(arr)"
   ]
  },
  {
   "cell_type": "markdown",
   "id": "3666c8b2",
   "metadata": {},
   "source": [
    "---\n",
    "\n",
    "#### 2.2.5. 특정 수로 이루어진 배열 생성"
   ]
  },
  {
   "cell_type": "code",
   "execution_count": null,
   "id": "f3c2361e",
   "metadata": {},
   "outputs": [],
   "source": [
    "# np.full((x축 개수, y축 개수), 값)\n",
    "arr = np.full((3, 4), 0.11)\n",
    "print(arr)"
   ]
  },
  {
   "cell_type": "markdown",
   "id": "c9694811",
   "metadata": {},
   "source": [
    "---\n",
    "\n",
    "#### 2.2.6. 균일한 간격의 숫자 생성\n",
    "- `np.linspace()` 활용\n",
    "- 그래프의 x 축을 그릴 때 많이 사용합니다.\n",
    "- `lin` 은 선형 간격 값을 생성하는 것은 나타내며, 이는 로그 간격 값을 생성하는 `logspace` 와 대조됩니다."
   ]
  },
  {
   "cell_type": "code",
   "execution_count": null,
   "id": "eecf296c",
   "metadata": {},
   "outputs": [],
   "source": [
    "# np,linspace(구간 시작점, 구간 끝점, 구간 내 숫자 개수)\n",
    "arr = np.linspace(-5, 5, 10)\n",
    "print(arr)"
   ]
  },
  {
   "cell_type": "markdown",
   "id": "e514ef1e",
   "metadata": {},
   "source": [
    "---\n",
    "\n",
    "#### 2.2.7. 랜덤한 값 생성\n",
    "- `np.random.rand()` 활용"
   ]
  },
  {
   "cell_type": "code",
   "execution_count": null,
   "id": "c5e9bd93",
   "metadata": {
    "scrolled": true
   },
   "outputs": [],
   "source": [
    "# np.random.rand(개수)\n",
    "arr = np.random.rand(5)\n",
    "print(arr)"
   ]
  },
  {
   "cell_type": "markdown",
   "id": "f492e146",
   "metadata": {},
   "source": [
    "- 2차원 배열로 생성"
   ]
  },
  {
   "cell_type": "code",
   "execution_count": null,
   "id": "3681ba9e",
   "metadata": {},
   "outputs": [],
   "source": [
    "# np.random.rand(x축 개수, y축 개수)\n",
    "arr = np.random.rand(2, 3)\n",
    "print(arr)"
   ]
  },
  {
   "cell_type": "markdown",
   "id": "464c41bf",
   "metadata": {},
   "source": [
    "- 원하는 범위 내의 정수 값을 원하는 개수로 생성하기"
   ]
  },
  {
   "cell_type": "code",
   "execution_count": null,
   "id": "ac0c3175",
   "metadata": {},
   "outputs": [],
   "source": [
    "# np.random.randint(범위, size=개수)\n",
    "arr = np.random.randint(5, size=10)\n",
    "print(arr)"
   ]
  },
  {
   "cell_type": "markdown",
   "id": "d40e79cb",
   "metadata": {},
   "source": [
    "---\n",
    "\n",
    "### 3. 기본 함수"
   ]
  },
  {
   "cell_type": "code",
   "execution_count": null,
   "id": "aa00e5cc",
   "metadata": {},
   "outputs": [],
   "source": [
    "arr = np.arange(15).reshape(3, 5)"
   ]
  },
  {
   "cell_type": "code",
   "execution_count": null,
   "id": "1c87c300",
   "metadata": {},
   "outputs": [],
   "source": [
    "# 배열 각 축(axis) 의 크기\n",
    "arr.shape"
   ]
  },
  {
   "cell_type": "code",
   "execution_count": null,
   "id": "5c289198",
   "metadata": {},
   "outputs": [],
   "source": [
    "# 축의 개수(차원, Dimension)\n",
    "arr.ndim"
   ]
  },
  {
   "cell_type": "code",
   "execution_count": null,
   "id": "8c1d0793",
   "metadata": {},
   "outputs": [],
   "source": [
    "# 각 요소(Element) 의 타입\n",
    "arr.dtype"
   ]
  },
  {
   "cell_type": "code",
   "execution_count": null,
   "id": "961eec9f",
   "metadata": {},
   "outputs": [],
   "source": [
    "# 각 요소(Element)의 타입의 bytes 의 크기\n",
    "arr.itemsize"
   ]
  },
  {
   "cell_type": "code",
   "execution_count": null,
   "id": "b79e9c31",
   "metadata": {
    "scrolled": true
   },
   "outputs": [],
   "source": [
    "# 전체 요소(Element) 의 개수\n",
    "arr.size"
   ]
  },
  {
   "cell_type": "markdown",
   "id": "cbe5b695",
   "metadata": {},
   "source": [
    "---\n",
    "\n",
    "### 4. Indexing & Slicing\n",
    "- 파이썬 기본 slice 와 비슷하지만, 다차원 배열에서의 사용이 조금 더 편리하다"
   ]
  },
  {
   "cell_type": "markdown",
   "id": "626201fc",
   "metadata": {},
   "source": [
    "#### 4.1 Indexing"
   ]
  },
  {
   "cell_type": "code",
   "execution_count": null,
   "id": "2e98cd66",
   "metadata": {},
   "outputs": [],
   "source": [
    "arr = np.arange(25).reshape(5, 5)"
   ]
  },
  {
   "cell_type": "markdown",
   "id": "2f8ea907",
   "metadata": {},
   "source": [
    "Python 기본 Indexing 과 동일하다"
   ]
  },
  {
   "cell_type": "code",
   "execution_count": null,
   "id": "b67ac188",
   "metadata": {},
   "outputs": [],
   "source": [
    "print(arr[1][2])"
   ]
  },
  {
   "cell_type": "markdown",
   "id": "685999a9",
   "metadata": {},
   "source": [
    "ndarray 에서 차이점은 __[1, 2]__ 로 접근이 가능하다."
   ]
  },
  {
   "cell_type": "code",
   "execution_count": null,
   "id": "b85971a0",
   "metadata": {},
   "outputs": [],
   "source": [
    "print(arr[1, 2])"
   ]
  },
  {
   "cell_type": "markdown",
   "id": "90e73afe",
   "metadata": {},
   "source": [
    "---"
   ]
  },
  {
   "cell_type": "markdown",
   "id": "f273681e",
   "metadata": {},
   "source": [
    "#### 4.2 Slicing"
   ]
  },
  {
   "cell_type": "code",
   "execution_count": null,
   "id": "2cf81691",
   "metadata": {},
   "outputs": [],
   "source": [
    "# Python List 에서의 2차원 배열 slicing\n",
    "# 2행부터 / 3열까지\n",
    "arr = [[0, 1, 2, 3, 4], [5, 6, 7, 8, 9], [10, 11, 12, 13, 14], [15, 16, 17, 18, 19], [20, 21, 22, 23, 24]]\n",
    "print([arr[:3] for arr in arr[2:]])"
   ]
  },
  {
   "cell_type": "code",
   "execution_count": null,
   "id": "919027a6",
   "metadata": {
    "scrolled": false
   },
   "outputs": [],
   "source": [
    "arr = np.arange(25).reshape(5, 5)"
   ]
  },
  {
   "cell_type": "code",
   "execution_count": null,
   "id": "e11e1458",
   "metadata": {},
   "outputs": [],
   "source": [
    "# 1번행 이상 / 3번행 미만, 2번 열 미만 출력\n",
    "print(arr[1:3, :2])"
   ]
  },
  {
   "cell_type": "code",
   "execution_count": null,
   "id": "7fff3c0c",
   "metadata": {},
   "outputs": [],
   "source": [
    "# 모든 행, 2번 열 이후 출력\n",
    "print(arr[:, :2])"
   ]
  },
  {
   "cell_type": "code",
   "execution_count": null,
   "id": "8cc7685e",
   "metadata": {},
   "outputs": [],
   "source": [
    "# 모든 행 / 모든 열을 2칸씩 띄워서 출력\n",
    "print(arr[:, ::2])"
   ]
  },
  {
   "cell_type": "code",
   "execution_count": null,
   "id": "934acf00",
   "metadata": {},
   "outputs": [],
   "source": [
    "# 1번 행부터 끝까지, 2칸씩 띄워서 / 0번 열부터 4번 미만 열까지, 3열씩 띄워서 출력\n",
    "print(arr[1::2, 0:4:3])"
   ]
  },
  {
   "cell_type": "markdown",
   "id": "aee3b5dc",
   "metadata": {},
   "source": [
    "---\n",
    "\n",
    "### 5. 배열 값 수정 & 복사하기\n",
    "- Index 접근 후 수정은 기본 배열과 동일하게 하면 된다.\n",
    "- Numpy 도 마찬가지로 python 기반이기 때문에 얕은 복사(Shallow Copy)가 발생한다.\n",
    "    - 깊은 복사: '실제 값'을 새로운 메모리 공간에 복사하는 것\n",
    "    - 얕은 복사: '주소 값'을 복사\n",
    "- 원본 배열을 수정하지 않으려면 `np.copy()` 함수를 사용하면 된다."
   ]
  },
  {
   "cell_type": "code",
   "execution_count": null,
   "id": "704c91e6",
   "metadata": {},
   "outputs": [],
   "source": [
    "arr = np.arange(15).reshape(3, 5)"
   ]
  },
  {
   "cell_type": "code",
   "execution_count": null,
   "id": "acc161cc",
   "metadata": {
    "scrolled": true
   },
   "outputs": [],
   "source": [
    "# 값이 변경된다.\n",
    "arr2 = arr\n",
    "arr2[0][0] = 15\n",
    "print(arr)"
   ]
  },
  {
   "cell_type": "code",
   "execution_count": null,
   "id": "c7bb3c62",
   "metadata": {
    "scrolled": true
   },
   "outputs": [],
   "source": [
    "arr = np.arange(15).reshape(3, 5)\n",
    "arr2 = arr.copy()\n",
    "arr2[0][0] = 15\n",
    "print(arr)\n",
    "print(arr2)"
   ]
  },
  {
   "cell_type": "code",
   "execution_count": null,
   "id": "4c18cb4e",
   "metadata": {},
   "outputs": [],
   "source": []
  }
 ],
 "metadata": {
  "kernelspec": {
   "display_name": "Python 3",
   "language": "python",
   "name": "python3"
  },
  "language_info": {
   "codemirror_mode": {
    "name": "ipython",
    "version": 3
   },
   "file_extension": ".py",
   "mimetype": "text/x-python",
   "name": "python",
   "nbconvert_exporter": "python",
   "pygments_lexer": "ipython3",
   "version": "3.8.8"
  }
 },
 "nbformat": 4,
 "nbformat_minor": 5
}
